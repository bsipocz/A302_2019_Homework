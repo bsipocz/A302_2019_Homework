{
 "cells": [
  {
   "cell_type": "code",
   "execution_count": 1,
   "metadata": {
    "collapsed": true
   },
   "outputs": [],
   "source": [
    "## Testing my module using the code given in the Homework 1 assignment"
   ]
  },
  {
   "cell_type": "code",
   "execution_count": 2,
   "metadata": {
    "collapsed": true
   },
   "outputs": [],
   "source": [
    "def show_code_listing(fn):\n",
    "    from IPython.display import display, Markdown\n",
    "    return Markdown( '```python\\n{}\\n```'.format(open(fn).read()))\n",
    "\n",
    "def execute_and_show(cmdline):\n",
    "    from IPython.display import display, Markdown\n",
    "    res = ! $cmdline\n",
    "    res = '\\n'.join(['    ' + line for line in res])\n",
    "    print('```bash\\n    ${}\\n{}\\n```'.format(cmdline, res))"
   ]
  },
  {
   "cell_type": "code",
   "execution_count": 3,
   "metadata": {},
   "outputs": [
    {
     "name": "stdout",
     "output_type": "stream",
     "text": [
      "All tests passed! You have a working calculator!\n"
     ]
    }
   ],
   "source": [
    "from calc import Calculator\n",
    "\n",
    "def assertAlmostEqual(a, b):\n",
    "    \"\"\" A function that tests the approximate equality of two floating point numbers. \"\"\"\n",
    "    assert round(a-b, 7) == 0, \"{} is not equal to {}.\".format(a, b)\n",
    "\n",
    "c1 = Calculator()    # Create an instance of a calculator\n",
    "c2 = Calculator(50)    # Create another calculator, initialized with 50\n",
    "\n",
    "# Test individual methods, and that the two instances properly\n",
    "# track their own state.\n",
    "c1.add(2);           assertAlmostEqual(c1.result(), 2)\n",
    "c1.mul(4);           assertAlmostEqual(c1.result(), 8)\n",
    "c2.add(50);          assertAlmostEqual(c2.result(), 100)\n",
    "c1.div(8);           assertAlmostEqual(c1.result(), 1)\n",
    "c1.sub(-3.);         assertAlmostEqual(c1.result(), 4)\n",
    "c2.div(c1.result()); assertAlmostEqual(c2.result(), 25)\n",
    "\n",
    "print (\"All tests passed! You have a working calculator!\")"
   ]
  },
  {
   "cell_type": "code",
   "execution_count": null,
   "metadata": {
    "collapsed": true
   },
   "outputs": [],
   "source": []
  }
 ],
 "metadata": {
  "kernelspec": {
   "display_name": "Python 3",
   "language": "python",
   "name": "python3"
  },
  "language_info": {
   "codemirror_mode": {
    "name": "ipython",
    "version": 3
   },
   "file_extension": ".py",
   "mimetype": "text/x-python",
   "name": "python",
   "nbconvert_exporter": "python",
   "pygments_lexer": "ipython3",
   "version": "3.6.2"
  }
 },
 "nbformat": 4,
 "nbformat_minor": 2
}
