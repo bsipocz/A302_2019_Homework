{
 "cells": [
  {
   "cell_type": "code",
   "execution_count": 1,
   "metadata": {
    "collapsed": true
   },
   "outputs": [],
   "source": [
    "import matplotlib.pyplot as plt\n",
    "import numpy as np\n",
    "from ipywidgets import interact, fixed\n",
    "%matplotlib inline"
   ]
  },
  {
   "cell_type": "code",
   "execution_count": 2,
   "metadata": {
    "collapsed": true
   },
   "outputs": [],
   "source": [
    "def load_and_prepare_cmd(filename):\n",
    "    array = np.genfromtxt(filename, dtype=float, delimiter=\",\", names=True)\n",
    "    g = array['g']\n",
    "    r = array['r']\n",
    "    g_mask = (g>14) & (g<24)\n",
    "    g = g[g_mask]\n",
    "    r = r[g_mask]\n",
    "    gr = g-r\n",
    "    g_r_mask = (gr>(-0.5)) & (gr<2.5)\n",
    "    g = g[g_r_mask]\n",
    "    gr = gr[g_r_mask]\n",
    "    return g, gr\n",
    "\n",
    "(g, gr) = load_and_prepare_cmd('fieldA.csv')"
   ]
  },
  {
   "cell_type": "code",
   "execution_count": 3,
   "metadata": {
    "collapsed": true
   },
   "outputs": [],
   "source": [
    "def interactive_hess(g, gr):\n",
    "    def hess_plot(g, gr, grid):\n",
    "        plt.hexbin(gr, g, gridsize=grid, bins='log')\n",
    "        plt.show()\n",
    "    interact(hess_plot, g=fixed(g), gr=fixed(gr), grid=(50,300,1))"
   ]
  },
  {
   "cell_type": "code",
   "execution_count": 4,
   "metadata": {},
   "outputs": [
    {
     "data": {
      "application/vnd.jupyter.widget-view+json": {
       "model_id": "9b68f65652eb49a2adf3262945ab718b",
       "version_major": 2,
       "version_minor": 0
      },
      "text/plain": [
       "A Jupyter Widget"
      ]
     },
     "metadata": {},
     "output_type": "display_data"
    }
   ],
   "source": [
    "interactive_hess(g, gr)"
   ]
  },
  {
   "cell_type": "code",
   "execution_count": null,
   "metadata": {
    "collapsed": true
   },
   "outputs": [],
   "source": []
  }
 ],
 "metadata": {
  "kernelspec": {
   "display_name": "Python 3",
   "language": "python",
   "name": "python3"
  },
  "language_info": {
   "codemirror_mode": {
    "name": "ipython",
    "version": 3
   },
   "file_extension": ".py",
   "mimetype": "text/x-python",
   "name": "python",
   "nbconvert_exporter": "python",
   "pygments_lexer": "ipython3",
   "version": "3.6.2"
  }
 },
 "nbformat": 4,
 "nbformat_minor": 2
}
