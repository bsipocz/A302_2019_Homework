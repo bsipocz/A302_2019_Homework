{
 "cells": [
  {
   "cell_type": "code",
   "execution_count": 1,
   "metadata": {},
   "outputs": [],
   "source": [
    "import sys\n",
    "import re\n",
    "\n",
    "def show_code_listing(fn):\n",
    "    from IPython.display import display, Markdown\n",
    "    return Markdown( '```python\\n{}\\n```'.format(open(fn).read()))\n",
    "\n",
    "def execute_and_show(cmdline):\n",
    "    from IPython.display import display, Markdown\n",
    "    res = ! $cmdline\n",
    "    res = '\\n'.join(['    ' + line for line in res])\n",
    "    print('```bash\\n    ${}\\n{}\\n```'.format(cmdline, res))"
   ]
  },
  {
   "cell_type": "code",
   "execution_count": 26,
   "metadata": {},
   "outputs": [],
   "source": [
    "isNumber = '^[1-9][0-9]*\\.?[0-9]*([Ee][+-]?[0-9]+)?$'\n",
    "\n",
    "class Calculator:\n",
    "    def __init__(self, value=0):\n",
    "        \"\"\"Initilizes function and defines self value\"\"\"\n",
    "        self.value = value\n",
    "        \n",
    "    def add(self,b):\n",
    "        \"\"\" Adds two numbers, self + b \"\"\"\n",
    "        self.value = self.value + b\n",
    "    def result(self):\n",
    "        \"\"\"Returns the fuction with the self value after the operations\"\"\"\n",
    "        return self.value\n",
    "    \n",
    "    def sub(self,b):\n",
    "        \"\"\" Subtracts two numbers, self - b \"\"\"\n",
    "        self.value = self.value - b\n",
    "\n",
    "    def mul(self,b):\n",
    "        \"\"\"Multiplies two numbers, self * b \"\"\"\n",
    "        self.value = self.value * b\n",
    "\n",
    "    def div(self,b):\n",
    "        \"\"\"Divides two numbers, a / b\"\"\"\n",
    "        if b == 0:\n",
    "            raise ZeroDivisionError(\"Trying to divide by zero!\")\n",
    "        self.value = self.value / b\n",
    "    \n",
    "def assertAlmostEqual(a, b):\n",
    "    \"\"\" A function that tests the approximate equality of two floating point numbers.\"\"\"\n",
    "    assert round(a-b, 7) == 0, \"{} is not equal to {}.\".format(a, b)\n",
    "    \n",
    "c1 = Calculator() \n",
    "c2 = Calculator(50) \n",
    "\n",
    "c1.add(2);           assertAlmostEqual(c1.result(), 2)\n",
    "c1.mul(4);           assertAlmostEqual(c1.result(), 8)\n",
    "c2.add(50);          assertAlmostEqual(c2.result(), 100)\n",
    "c1.div(8);           assertAlmostEqual(c1.result(), 1)\n",
    "c1.sub(-3.);         assertAlmostEqual(c1.result(), 4)\n",
    "c2.div(c1.result()); assertAlmostEqual(c2.result(), 25)"
   ]
  },
  {
   "cell_type": "code",
   "execution_count": 27,
   "metadata": {},
   "outputs": [
    {
     "name": "stdout",
     "output_type": "stream",
     "text": [
      "4.0\n"
     ]
    }
   ],
   "source": [
    "print(c1.result())"
   ]
  },
  {
   "cell_type": "code",
   "execution_count": 28,
   "metadata": {},
   "outputs": [
    {
     "name": "stdout",
     "output_type": "stream",
     "text": [
      "25.0\n"
     ]
    }
   ],
   "source": [
    "print(c2.result())"
   ]
  },
  {
   "cell_type": "code",
   "execution_count": 30,
   "metadata": {},
   "outputs": [
    {
     "name": "stdout",
     "output_type": "stream",
     "text": [
      "All tests passed! You have a working calculator!\n"
     ]
    }
   ],
   "source": [
    "print(\"All tests passed! You have a working calculator!\")"
   ]
  },
  {
   "cell_type": "code",
   "execution_count": null,
   "metadata": {},
   "outputs": [],
   "source": []
  },
  {
   "cell_type": "code",
   "execution_count": null,
   "metadata": {},
   "outputs": [],
   "source": []
  },
  {
   "cell_type": "code",
   "execution_count": null,
   "metadata": {},
   "outputs": [],
   "source": []
  }
 ],
 "metadata": {
  "kernelspec": {
   "display_name": "Python 3",
   "language": "python",
   "name": "python3"
  },
  "language_info": {
   "codemirror_mode": {
    "name": "ipython",
    "version": 3
   },
   "file_extension": ".py",
   "mimetype": "text/x-python",
   "name": "python",
   "nbconvert_exporter": "python",
   "pygments_lexer": "ipython3",
   "version": "3.6.6"
  }
 },
 "nbformat": 4,
 "nbformat_minor": 2
}
