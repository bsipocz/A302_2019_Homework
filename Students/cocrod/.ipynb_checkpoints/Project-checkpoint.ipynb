{
 "cells": [
  {
   "cell_type": "markdown",
   "metadata": {},
   "source": [
    "-BRIEF DESCRIPTION OF THE WORK PLANNED-\n",
    "\n",
    "\n",
    "What is the science objective (i.e. why are you doing this project):\n",
    "The science objective is to understand the differences in various cosmic ray models on galactic evolution.\n",
    "\n",
    "What is the goal of the project (e.g. to visualize ZTF light curves):\n",
    "The goal of the project is to create visualizations of the data across time.\n",
    "\n",
    "What will the program do (e.g. read in a series of ZTF light curves and plot them as an interactive plot; fit a Lomb-Scargle periodogram and plot the sinusoid with the best fit period on top of the data; run this as a jupyter widget):\n",
    "The program will read in data and create plots\n",
    "\n",
    "What are your data sets and deliverables:\n",
    "The data sets are information of different galactic seed models evolved through time."
   ]
  },
  {
   "cell_type": "code",
   "execution_count": null,
   "metadata": {},
   "outputs": [],
   "source": []
  }
 ],
 "metadata": {
  "kernelspec": {
   "display_name": "Python 3",
   "language": "python",
   "name": "python3"
  },
  "language_info": {
   "codemirror_mode": {
    "name": "ipython",
    "version": 3
   },
   "file_extension": ".py",
   "mimetype": "text/x-python",
   "name": "python",
   "nbconvert_exporter": "python",
   "pygments_lexer": "ipython3",
   "version": "3.7.2"
  }
 },
 "nbformat": 4,
 "nbformat_minor": 2
}
