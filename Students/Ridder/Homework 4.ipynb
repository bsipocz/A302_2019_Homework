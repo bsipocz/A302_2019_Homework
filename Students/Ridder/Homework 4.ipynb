{
 "cells": [
  {
   "cell_type": "markdown",
   "metadata": {},
   "source": [
    "# Final Project Proposal"
   ]
  },
  {
   "cell_type": "markdown",
   "metadata": {},
   "source": [
    "I'm currently working with Prof. Scott Anderson in his search for changing-look quasar (CLQ) candidates. Since it takes up a lot of time to sift through the spectra from the SDSS database, I could create a program which gathers up the data for me and presents the plots in chronological order (by MJD)."
   ]
  },
  {
   "cell_type": "markdown",
   "metadata": {},
   "source": [
    "## Goal of the Project"
   ]
  },
  {
   "cell_type": "markdown",
   "metadata": {},
   "source": [
    "The goal is to create a useful viewing tool for SDSS spectra. I'm planning to present spectra side-by-side and two at a time. Since there are sometimes many spectra (~20) for one object, I will add the ability to scroll. I plan to also add flags or comments so that it's easy to identify objects of interest.\n",
    "\n",
    "If there is time, I would also like to add a fitting function to the project. Part of how I identify CLQs involves looking at the broad components of H-alpha and H-beta and seeing if they change significantly over the course of about 10 years. It's a bit tricky to accurately guage how H-alpha is changing over time, however, because it's nested between two nitrogen lines which can sometimes make it seem like the line is broader than it really is. Being able to properly fit the three lines (H-alpha and both nitrogen lines) would be incredibly useful."
   ]
  },
  {
   "cell_type": "markdown",
   "metadata": {},
   "source": [
    "## The Program"
   ]
  },
  {
   "cell_type": "markdown",
   "metadata": {},
   "source": [
    "The viewer:\n",
    "\n",
    "I will first need to create a program that accesses the SDSS archives via URL and pulls out all the spectra for one single object. I've already looked into this and I think I've found a good python package to do so: astroquery. I'm still exploring other options, but with astroquery I can access the SpecObjAll table data and look for a specific ID number that identifies the object. That ID, along with the fiber ID, RA, and DEC, can be placed into a URL that would download the spectra as a PNG file. By your request, professor, I will be using bokeh to create the widget to display the spectra.\n",
    "\n",
    "Fitting the data:\n",
    "\n",
    "For the fitting, I will have to find out how to download all the FITS files for the object. Finding them should be doable with astroquery. Plotting them, however, might prove to be a challenge. I briefly tried to figure this out last quarter with Scott by using QFitsView, but we could not find where SDSS hid their flux data within the FITS files. Since this would be the more time-consuming part of the project, I intend to leave it as extra. The fitting could then be easily done with a few Gaussians and the Optimize or ODR modules in SciPy."
   ]
  },
  {
   "cell_type": "markdown",
   "metadata": {},
   "source": [
    "## Data Sets and Deliverables"
   ]
  },
  {
   "cell_type": "markdown",
   "metadata": {},
   "source": [
    "I plan to have the project run out of the command line where it could be fed a text or CSV file of data. The data I will be using are sets of objects that Scott has provided me with (lists of plate numbers, MJD, and fiber IDs). With these I can also provide some example sets of data where the BOSS pipelines have misidentified objects and those where it gets the classification right (QSO or galaxy). Since there are plenty of duds, these examples could be pretty useful in showing the user what can go wrong (awful fitting, cosmic rays, etc.)."
   ]
  }
 ],
 "metadata": {
  "kernelspec": {
   "display_name": "Python 3",
   "language": "python",
   "name": "python3"
  },
  "language_info": {
   "codemirror_mode": {
    "name": "ipython",
    "version": 3
   },
   "file_extension": ".py",
   "mimetype": "text/x-python",
   "name": "python",
   "nbconvert_exporter": "python",
   "pygments_lexer": "ipython3",
   "version": "3.6.8"
  }
 },
 "nbformat": 4,
 "nbformat_minor": 2
}
